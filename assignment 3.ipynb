{
 "cells": [
  {
   "cell_type": "code",
   "execution_count": null,
   "metadata": {
    "colab": {
     "base_uri": "https://localhost:8080/"
    },
    "executionInfo": {
     "elapsed": 17,
     "status": "ok",
     "timestamp": 1652489024394,
     "user": {
      "displayName": "Dina Mostafa",
      "userId": "14860572387468184990"
     },
     "user_tz": 420
    },
    "id": "KSr28qi8BQ20",
    "outputId": "f25464c8-cd5a-4bd8-97fa-f9d5022307f7"
   },
   "outputs": [
    {
     "name": "stdout",
     "output_type": "stream",
     "text": [
      "[('Automatic', 'With Air', 'R'), ('Automatic', 'With Air', 'W'), ('Automatic', 'With Air', 'B'), ('Automatic', 'With Air', 'b'), ('Automatic', 'Without Air', 'R'), ('Automatic', 'Without Air', 'W'), ('Automatic', 'Without Air', 'B'), ('Automatic', 'Without Air', 'b'), ('Standard', 'With Air', 'R'), ('Standard', 'With Air', 'W'), ('Standard', 'With Air', 'B'), ('Standard', 'With Air', 'b'), ('Standard', 'Without Air', 'R'), ('Standard', 'Without Air', 'W'), ('Standard', 'Without Air', 'B'), ('Standard', 'Without Air', 'b')]\n",
      "16\n"
     ]
    }
   ],
   "source": [
    "## Question 1\n",
    "from itertools import product as prod\n",
    "import math\n",
    "n = 2\n",
    "k = 4\n",
    "List1 =[\"Automatic\", \"Standard\"]\n",
    "List2 = [\"With Air\", \"Without Air\"]\n",
    "List3 = [\"R\", \"W\", \"B\", \"b\"]\n",
    "Cars = list(prod(List1, List2, List3))\n",
    "print(Cars)\n",
    "print(n**k)"
   ]
  },
  {
   "cell_type": "code",
   "execution_count": null,
   "metadata": {
    "id": "ZOLZbyYn5tdw"
   },
   "outputs": [],
   "source": []
  },
  {
   "cell_type": "code",
   "execution_count": null,
   "metadata": {
    "id": "xgPDIzIl6HG9"
   },
   "outputs": [],
   "source": [
    "## Question 2 \n",
    "import numpy as np\n",
    "import matplotlib.pyplot as plt\n",
    "from scipy.stats import binom\n",
    "import seaborn as sns \n",
    "n= 18 \n",
    "p= .1"
   ]
  },
  {
   "cell_type": "code",
   "execution_count": null,
   "metadata": {
    "colab": {
     "base_uri": "https://localhost:8080/"
    },
    "executionInfo": {
     "elapsed": 341,
     "status": "ok",
     "timestamp": 1652554499977,
     "user": {
      "displayName": "Dina Mostafa",
      "userId": "14860572387468184990"
     },
     "user_tz": 420
    },
    "id": "a1g8bOBoBWnn",
    "outputId": "b49416c5-5811-485b-df8f-715aeca17592"
   },
   "outputs": [
    {
     "name": "stdout",
     "output_type": "stream",
     "text": [
      "a)\n",
      "   0.07000298491218054\n"
     ]
    }
   ],
   "source": [
    "## a\n",
    "x = 4\n",
    "binomial_pmf = binom.pmf(x, n, p)\n",
    "print('a)')\n",
    "print('  ', binomial_pmf)"
   ]
  },
  {
   "cell_type": "code",
   "execution_count": null,
   "metadata": {
    "colab": {
     "base_uri": "https://localhost:8080/"
    },
    "executionInfo": {
     "elapsed": 331,
     "status": "ok",
     "timestamp": 1652554503396,
     "user": {
      "displayName": "Dina Mostafa",
      "userId": "14860572387468184990"
     },
     "user_tz": 420
    },
    "id": "kq1D_fHXBqvT",
    "outputId": "fa564923-3385-46e9-bc04-60e61e9a00a9"
   },
   "outputs": [
    {
     "name": "stdout",
     "output_type": "stream",
     "text": [
      "b)\n",
      "   0.26620400521467225\n"
     ]
    }
   ],
   "source": [
    "## b\n",
    "x1= 0 \n",
    "x2 = 1 \n",
    "x3 = 2 \n",
    "A = binom.pmf(x1, n, p)\n",
    "B = binom.pmf(x2, n, p)\n",
    "C = binom.pmf(x3, n, p)\n",
    "sum = A + B + C \n",
    "print ( 'b)')\n",
    "print ( \"  \" ,1- sum)"
   ]
  },
  {
   "cell_type": "code",
   "execution_count": null,
   "metadata": {
    "colab": {
     "base_uri": "https://localhost:8080/"
    },
    "executionInfo": {
     "elapsed": 374,
     "status": "ok",
     "timestamp": 1652561763753,
     "user": {
      "displayName": "Dina Mostafa",
      "userId": "14860572387468184990"
     },
     "user_tz": 420
    },
    "id": "8rxyhPV_Bz7C",
    "outputId": "56fe8afd-e3d6-40b6-b1b1-7be0a86b13df"
   },
   "outputs": [
    {
     "name": "stdout",
     "output_type": "stream",
     "text": [
      "c)\n",
      "   1.8\n"
     ]
    }
   ],
   "source": [
    "## c\n",
    "numbers = [k for k in range(19)]\n",
    "pmf = [binom.pmf(k,n,p) for k in range(19)]\n",
    "def Exp_value(numbers , values):\n",
    "    numbers = np.asarray(numbers)\n",
    "    values = np.asarray(values)\n",
    "    return (numbers * values).sum()/values.sum()\n",
    "print(\"c)\")\n",
    "print(\"  \" , Exp_value(numbers , pmf) )"
   ]
  },
  {
   "cell_type": "code",
   "execution_count": null,
   "metadata": {
    "colab": {
     "base_uri": "https://localhost:8080/",
     "height": 295
    },
    "executionInfo": {
     "elapsed": 414,
     "status": "ok",
     "timestamp": 1652554818199,
     "user": {
      "displayName": "Dina Mostafa",
      "userId": "14860572387468184990"
     },
     "user_tz": 420
    },
    "id": "jHseN7LwB54y",
    "outputId": "d07e0c7e-5bf9-4cf4-812f-9c18340207bc"
   },
   "outputs": [
    {
     "data": {
      "image/png": "[encoded data removed]",
      "text/plain": [
       "<Figure size 432x288 with 1 Axes>"
      ]
     },
     "metadata": {},
     "output_type": "display_data"
    }
   ],
   "source": [
    "## d \n",
    "x = np.arange(0, n+1)\n",
    "binomial_pmf = binom.pmf(x, n, p)\n",
    "plt.plot(x, binomial_pmf, color='red')\n",
    "plt.ylabel('F(X)')\n",
    "plt.xlabel('X')\n",
    "plt.title(f\"PMF (n={n}, p={p})\")\n",
    "plt.show()"
   ]
  },
  {
   "cell_type": "code",
   "execution_count": null,
   "metadata": {
    "colab": {
     "base_uri": "https://localhost:8080/",
     "height": 295
    },
    "executionInfo": {
     "elapsed": 372,
     "status": "ok",
     "timestamp": 1652554792901,
     "user": {
      "displayName": "Dina Mostafa",
      "userId": "14860572387468184990"
     },
     "user_tz": 420
    },
    "id": "RewfvH8oB7uX",
    "outputId": "56db6e4f-711c-42da-b019-360a652c875b"
   },
   "outputs": [
    {
     "data": {
      "image/png": "[encoded data removed]",
      "text/plain": [
       "<Figure size 432x288 with 1 Axes>"
      ]
     },
     "metadata": {},
     "output_type": "display_data"
    }
   ],
   "source": [
    "## e\n",
    "binomial_cdf = binom.cdf(x, n, p)\n",
    "plt.plot(x, binomial_cdf, color='red')\n",
    "plt.ylabel('F(X)')\n",
    "plt.xlabel('X')\n",
    "plt.title(f\"CDF (n={n}, p={p})\")\n",
    "plt.show()"
   ]
  },
  {
   "cell_type": "code",
   "execution_count": null,
   "metadata": {
    "id": "_eb-Akrh_J3a"
   },
   "outputs": [],
   "source": [
    "## Question 3 \n",
    "import random \n",
    "import numpy as np\n",
    "import matplotlib.pyplot as plt\n",
    "from scipy.stats import uniform\n",
    "import seaborn as sns"
   ]
  },
  {
   "cell_type": "code",
   "execution_count": null,
   "metadata": {
    "colab": {
     "base_uri": "https://localhost:8080/",
     "height": 565
    },
    "executionInfo": {
     "elapsed": 947,
     "status": "ok",
     "timestamp": 1652555767896,
     "user": {
      "displayName": "Dina Mostafa",
      "userId": "14860572387468184990"
     },
     "user_tz": 420
    },
    "id": "YOSNQ8DW_KDv",
    "outputId": "edcd877e-1e4d-4f75-a574-715494cb94d2"
   },
   "outputs": [
    {
     "name": "stdout",
     "output_type": "stream",
     "text": [
      "a)\n",
      "[4.03894534 8.83690924 8.12832054 9.17972696 3.12189341]\n"
     ]
    },
    {
     "data": {
      "image/png": "[encoded data removed]",
      "text/plain": [
       "<Figure size 432x288 with 1 Axes>"
      ]
     },
     "metadata": {},
     "output_type": "display_data"
    },
    {
     "name": "stdout",
     "output_type": "stream",
     "text": [
      "[6.09063343 4.22156047 8.25669785 8.56962432 3.60926284]\n"
     ]
    },
    {
     "data": {
      "image/png": "[encoded data removed]",
      "text/plain": [
       "<Figure size 432x288 with 1 Axes>"
      ]
     },
     "metadata": {},
     "output_type": "display_data"
    }
   ],
   "source": [
    "## a \n",
    "print(\"a)\")\n",
    "rv=np.random.uniform(3, 12, 5)\n",
    "print(rv)\n",
    "sns.histplot(rv)\n",
    "plt.show()\n",
    "r=np.random.uniform(3, 12, 5)\n",
    "print(r)\n",
    "sns.histplot(r)\n",
    "plt.show()"
   ]
  },
  {
   "cell_type": "code",
   "execution_count": null,
   "metadata": {
    "colab": {
     "base_uri": "https://localhost:8080/"
    },
    "executionInfo": {
     "elapsed": 354,
     "status": "ok",
     "timestamp": 1652555720028,
     "user": {
      "displayName": "Dina Mostafa",
      "userId": "14860572387468184990"
     },
     "user_tz": 420
    },
    "id": "a9y7R-z4_KOO",
    "outputId": "86a52bd2-a110-4444-c25b-c67e9ae02e06"
   },
   "outputs": [
    {
     "name": "stdout",
     "output_type": "stream",
     "text": [
      "b)\n",
      "   No it does not represent a uniform distribusion the size of sample 5 is small when the size increases the variability of sampling distribution decreases and shape of sampling dis becomes more similiar to normal distribution regardless of the shape of population\n",
      "   x_axis=count \n",
      "   y_axis= X~U[3,12]\n"
     ]
    }
   ],
   "source": [
    "## b \n",
    "print(\"b)\")\n",
    "print(\"   No it does not represent a uniform distribusion the size of sample 5 is small when the size increases the variability of sampling distribution decreases and shape of sampling dis becomes more similiar to normal distribution regardless of the shape of population\")\n",
    "print(\"   x_axis=count \")\n",
    "print(\"   y_axis= X~U[3,12]\")"
   ]
  },
  {
   "cell_type": "code",
   "execution_count": null,
   "metadata": {
    "colab": {
     "base_uri": "https://localhost:8080/",
     "height": 1000
    },
    "executionInfo": {
     "elapsed": 2346,
     "status": "ok",
     "timestamp": 1652555670232,
     "user": {
      "displayName": "Dina Mostafa",
      "userId": "14860572387468184990"
     },
     "user_tz": 420
    },
    "id": "ckylC6P__fRS",
    "outputId": "1df8570e-139e-48a1-badf-11871984e1f8"
   },
   "outputs": [
    {
     "name": "stdout",
     "output_type": "stream",
     "text": [
      "c)\n",
      "[ 6.68165582 10.6159436   3.07627602  6.69681798 10.00046313]\n"
     ]
    },
    {
     "data": {
      "image/png": "[encoded data removed]",
      "text/plain": [
       "<Figure size 432x288 with 1 Axes>"
      ]
     },
     "metadata": {},
     "output_type": "display_data"
    },
    {
     "name": "stdout",
     "output_type": "stream",
     "text": [
      "[ 7.37017287 11.21342467  6.47914518  8.06052483 11.15906986  3.03825289\n",
      "  4.66008548  3.62503207  8.80039442  7.79368994  4.25912893  3.63838324\n",
      "  7.94993995  3.12781131  3.43332195 10.38764472  8.08391551  9.82159437\n",
      "  9.44703347  4.85840594]\n"
     ]
    },
    {
     "data": {
      "image/png": "[encoded data removed]",
      "text/plain": [
       "<Figure size 432x288 with 1 Axes>"
      ]
     },
     "metadata": {},
     "output_type": "display_data"
    },
    {
     "name": "stdout",
     "output_type": "stream",
     "text": [
      "[ 9.01490902 10.59941608  3.15623677  5.88950302  4.03685747 11.8677305\n",
      "  9.6100672   4.17597052 10.77343021  8.34554565 11.1407561   7.53742315\n",
      "  3.36067129  5.59787279  4.85834932  8.20613706  3.22538502  8.11333928\n",
      "  3.91361805  9.94122429 11.62823496  6.27863471  8.90323761  5.11501205\n",
      "  5.80918523  5.1587835   8.91893279  6.44657621  8.07574107  7.60379221\n",
      "  8.47605907  8.40330432  6.9719048   5.57044006  6.31946107  6.94054383\n",
      "  4.26461594  3.36179527 11.77058489  6.48388513  6.54841032  3.14222556\n",
      "  6.92830489  3.43797951 10.3355658  10.70763207 11.08492927 10.36359341\n",
      "  5.33130651 10.47689703  8.20218454  4.59746622  6.20421611  7.13405251\n",
      "  5.46519304  6.03266399  7.72307477  6.11461584 11.99302176 11.0215156\n",
      "  7.8873879  10.83966494  3.39758361  5.99175772  6.7564968   5.9265763\n",
      "  4.42165082  5.26209749  6.62998023  3.76791437  9.36821978 11.31586647\n",
      "  4.25732536 11.23679276 11.08618683  3.66165192  3.79419415  6.06679867\n",
      " 10.7729216   6.51747777  6.30078659 11.9550968  11.24818585  9.03248659\n",
      "  8.20589932  9.82527875  8.07073636  9.96796027 10.74131546  6.94819509\n",
      " 11.10461283 10.04134861  4.98737323  8.58535412  6.06239129  7.60289787\n",
      "  6.98943232  6.88938934  3.32361793  6.47962085]\n"
     ]
    },
    {
     "data": {
      "image/png": "[encoded data removed]",
      "text/plain": [
       "<Figure size 432x288 with 1 Axes>"
      ]
     },
     "metadata": {},
     "output_type": "display_data"
    },
    {
     "name": "stdout",
     "output_type": "stream",
     "text": [
      "[6.51683061 5.82908174 9.58615042 ... 6.56033906 8.93277808 5.9231066 ]\n"
     ]
    },
    {
     "data": {
      "image/png": "[encoded data removed]",
      "text/plain": [
       "<Figure size 432x288 with 1 Axes>"
      ]
     },
     "metadata": {},
     "output_type": "display_data"
    },
    {
     "name": "stdout",
     "output_type": "stream",
     "text": [
      "[8.42214271 7.49494948 5.31771055 ... 9.51640772 8.33314583 8.74455224]\n"
     ]
    },
    {
     "data": {
      "image/png": "[encoded data removed]",
      "text/plain": [
       "<Figure size 432x288 with 1 Axes>"
      ]
     },
     "metadata": {},
     "output_type": "display_data"
    },
    {
     "name": "stdout",
     "output_type": "stream",
     "text": [
      "[ 9.73704753  5.48877777 10.08160036 ...  5.36282784  7.34209722\n",
      "  7.27713729]\n"
     ]
    },
    {
     "data": {
      "image/png": "[encoded data removed]",
      "text/plain": [
       "<Figure size 432x288 with 1 Axes>"
      ]
     },
     "metadata": {},
     "output_type": "display_data"
    }
   ],
   "source": [
    "## c \n",
    "print(\"c)\")\n",
    "r=np.random.uniform(3, 12, 5)\n",
    "print(r)\n",
    "sns.histplot(r)\n",
    "plt.show()\n",
    "r=np.random.uniform(3, 12, 20)\n",
    "print(r)\n",
    "sns.histplot(r)\n",
    "plt.show()\n",
    "r=np.random.uniform(3, 12, 100)\n",
    "print(r)\n",
    "sns.histplot(r)\n",
    "plt.show()\n",
    "r=np.random.uniform(3, 12, 100000)\n",
    "print(r)\n",
    "sns.histplot(r)\n",
    "plt.show()\n",
    "r=np.random.uniform(3, 12, 200000)\n",
    "print(r)\n",
    "sns.histplot(r)\n",
    "plt.show()\n",
    "r=np.random.uniform(3, 12, 500000)\n",
    "print(r)\n",
    "sns.histplot(r)\n",
    "plt.show()"
   ]
  },
  {
   "cell_type": "code",
   "execution_count": null,
   "metadata": {
    "id": "a2VAFAUiyQzv"
   },
   "outputs": [],
   "source": [
    "## Question 4\n",
    "from scipy.stats import norm\n",
    "import numpy as np\n",
    "import matplotlib.pyplot as plt\n",
    "import seaborn as sb\n",
    "import seaborn as sns\n",
    " \n",
    "data = np.arange(0,15,0.01)\n",
    "mean=5 \n",
    "standardDiv=2\n",
    "pdf = norm.pdf(data , loc = mean , scale = standardDiv )\n"
   ]
  },
  {
   "cell_type": "code",
   "execution_count": null,
   "metadata": {
    "colab": {
     "base_uri": "https://localhost:8080/"
    },
    "executionInfo": {
     "elapsed": 351,
     "status": "ok",
     "timestamp": 1652555019961,
     "user": {
      "displayName": "Dina Mostafa",
      "userId": "14860572387468184990"
     },
     "user_tz": 420
    },
    "id": "j-IlaLrwykCT",
    "outputId": "35dc0815-c234-4d86-ccbe-be581a3786bc"
   },
   "outputs": [
    {
     "name": "stdout",
     "output_type": "stream",
     "text": [
      "a)\n",
      "   probability of x between 2 and 8 is  0.8663855974622838\n"
     ]
    }
   ],
   "source": [
    "## a\n",
    "cdf_lower_limit1 = norm(loc = 5 , scale = standardDiv).cdf(2)\n",
    "cdf_upper_limit1 = norm(loc = 5 , scale = standardDiv).cdf(8)\n",
    "prob1 = cdf_upper_limit1 - cdf_lower_limit1\n",
    "print (\"a)\")\n",
    "print(\"   probability of x between 2 and 8 is \", prob1)\n"
   ]
  },
  {
   "cell_type": "code",
   "execution_count": null,
   "metadata": {
    "colab": {
     "base_uri": "https://localhost:8080/"
    },
    "executionInfo": {
     "elapsed": 341,
     "status": "ok",
     "timestamp": 1652554974123,
     "user": {
      "displayName": "Dina Mostafa",
      "userId": "14860572387468184990"
     },
     "user_tz": 420
    },
    "id": "wn-4wLhHyk99",
    "outputId": "60fda706-404e-41d3-901a-aa474dfa858d"
   },
   "outputs": [
    {
     "name": "stdout",
     "output_type": "stream",
     "text": [
      "b)\n",
      "   probability of x between 10 and 15 is  0.006209378674204236\n"
     ]
    }
   ],
   "source": [
    "## b \n",
    "cdf_lower_limit2 = norm(loc = 5 , scale = 2).cdf(10)\n",
    "cdf_upper_limit2 = norm(loc = 5 , scale = 2).cdf(15)\n",
    "prob2 = cdf_upper_limit2 - cdf_lower_limit2\n",
    "print(\"b)\")\n",
    "print(\"   probability of x between 10 and 15 is \", prob2)\n"
   ]
  },
  {
   "cell_type": "code",
   "execution_count": null,
   "metadata": {
    "colab": {
     "base_uri": "https://localhost:8080/",
     "height": 695
    },
    "executionInfo": {
     "elapsed": 995,
     "status": "ok",
     "timestamp": 1652552487120,
     "user": {
      "displayName": "Dina Mostafa",
      "userId": "14860572387468184990"
     },
     "user_tz": 420
    },
    "id": "HQ7AmQ45ylQX",
    "outputId": "e55987a7-71e9-4c47-eb54-29b992e5ce0c"
   },
   "outputs": [
    {
     "name": "stdout",
     "output_type": "stream",
     "text": [
      "c)\n"
     ]
    },
    {
     "name": "stderr",
     "output_type": "stream",
     "text": [
      "/usr/local/lib/python3.7/dist-packages/seaborn/_decorators.py:43: FutureWarning: Pass the following variables as keyword args: x, y. From version 0.12, the only valid positional argument will be `data`, and passing other arguments without an explicit keyword will result in an error or misinterpretation.\n",
      "  FutureWarning\n"
     ]
    },
    {
     "data": {
      "text/plain": [
       "<matplotlib.collections.PolyCollection at 0x7f74ea12e390>"
      ]
     },
     "execution_count": 6,
     "metadata": {},
     "output_type": "execute_result"
    },
    {
     "data": {
      "image/png": "[encoded data removed]",
      "text/plain": [
       "<Figure size 720x720 with 1 Axes>"
      ]
     },
     "metadata": {
      "needs_background": "light"
     },
     "output_type": "display_data"
    }
   ],
   "source": [
    "## c \n",
    "print(\"c)\")\n",
    "x = np.arange(-5,20,0.01)\n",
    "pdf = norm.pdf(x , loc =5 , scale =2 )\n",
    "plt.figure(figsize=(10,10))\n",
    "sns.set_style('whitegrid')\n",
    "sns.lineplot(x, pdf , color ='black')\n",
    "plt.xlabel('X')\n",
    "plt.ylabel('Probability Density')\n",
    "plt.fill_between(x= x , y1= pdf , where=(2<x)&(x<8),color=\"b\", alpha= 0.2)\n",
    "plt.fill_between(x= x , y1= pdf , where=(10<x)&(x<15),color=\"g\", alpha= 0.2)\n"
   ]
  },
  {
   "cell_type": "code",
   "execution_count": null,
   "metadata": {
    "colab": {
     "base_uri": "https://localhost:8080/"
    },
    "executionInfo": {
     "elapsed": 333,
     "status": "ok",
     "timestamp": 1652489234551,
     "user": {
      "displayName": "Dina Mostafa",
      "userId": "14860572387468184990"
     },
     "user_tz": 420
    },
    "id": "1LYLt3IcB9Dj",
    "outputId": "0335b0d3-cedc-46f4-9345-6ed3a4a6b85c"
   },
   "outputs": [
    {
     "name": "stdout",
     "output_type": "stream",
     "text": [
      "The Mean =  14.358947368421052\n",
      "The median =  6.5\n",
      "The Range =  72.7\n",
      "The sample standard deviation =  18.880454883508158\n"
     ]
    }
   ],
   "source": [
    "## Question 5 \n",
    "import numpy as np\n",
    "import statistics\n",
    "sum=0.0\n",
    "\n",
    "data=[0.19,0.78,0.96,1.31,2.78,3.16,4.15,4.67,4.85,6.50,7.35,8.01,8.27,12.06,31.75,32.52,33.91,36.71,72.89]\n",
    "X_bar=statistics.mean(data)\n",
    "print('Mean = ',X_bar)\n",
    "\n",
    "med=statistics.median(data)\n",
    "print('median = ',med)\n",
    "\n",
    "range=data[18]-data[0]\n",
    "print('Range = ',range)\n",
    "\n",
    "standard_deviation= statistics.stdev(data)\n",
    "\n",
    "print('sample standard deviation = ',standard_deviation)"
   ]
  },
  {
   "cell_type": "code",
   "execution_count": null,
   "metadata": {
    "colab": {
     "base_uri": "https://localhost:8080/"
    },
    "executionInfo": {
     "elapsed": 444,
     "status": "ok",
     "timestamp": 1652489506462,
     "user": {
      "displayName": "Dina Mostafa",
      "userId": "14860572387468184990"
     },
     "user_tz": 420
    },
    "id": "7HdONRuvCKRC",
    "outputId": "48cc6938-6777-434d-8c59-e06146e1a38b"
   },
   "outputs": [
    {
     "name": "stdout",
     "output_type": "stream",
     "text": [
      "a)\n",
      "   (1.9823140341088703, 2.181019299224463)\n",
      "b)\n",
      "   Using the normal disribution (1.993193747760124, 2.1701395855732093)\n"
     ]
    }
   ],
   "source": [
    "## Question 6 \n",
    "import numpy as np\n",
    "import scipy.stats as st\n",
    "\n",
    "#define sample data\n",
    "data = [2.31,2.09,2.36,1.95,1.98,2.25,2.16,2.07,1.88,1.94,1.97,2.02]\n",
    "\n",
    "#create 95% confidence interval for population mean weight\n",
    "## a\n",
    "print('a)')\n",
    "print (\"  \", st.t.interval(alpha=0.95, df=len(data)-1, loc=np.mean(data), scale=st.sem(data)))\n",
    "## b \n",
    "ci= st.norm.interval(alpha=0.95,\n",
    "                     loc=np.mean(data),\n",
    "                     scale=st.sem(data))\n",
    "print (\"b)\")\n",
    "print(\"   Using the normal disribution\",ci)"
   ]
  }
 ],
 "metadata": {
  "colab": {
   "authorship_tag": "ABX9TyPEtz6uK1EmUXx0ZmBVi3ee",
   "name": "assignment 3.ipynb",
   "provenance": []
  },
  "kernelspec": {
   "display_name": "Python 3",
   "language": "python",
   "name": "python3"
  },
  "language_info": {
   "codemirror_mode": {
    "name": "ipython",
    "version": 3
   },
   "file_extension": ".py",
   "mimetype": "text/x-python",
   "name": "python",
   "nbconvert_exporter": "python",
   "pygments_lexer": "ipython3",
   "version": "3.8.8"
  }
 },
 "nbformat": 4,
 "nbformat_minor": 1
}
